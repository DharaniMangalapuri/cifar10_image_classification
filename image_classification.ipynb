{
 "cells": [
  {
   "cell_type": "code",
   "execution_count": 1,
   "id": "c28f6941",
   "metadata": {},
   "outputs": [
    {
     "name": "stderr",
     "output_type": "stream",
     "text": [
      "2022-12-18 23:46:21.902132: I tensorflow/core/platform/cpu_feature_guard.cc:193] This TensorFlow binary is optimized with oneAPI Deep Neural Network Library (oneDNN) to use the following CPU instructions in performance-critical operations:  AVX2 FMA\n",
      "To enable them in other operations, rebuild TensorFlow with the appropriate compiler flags.\n",
      "2022-12-18 23:46:26.415012: W tensorflow/compiler/xla/stream_executor/platform/default/dso_loader.cc:64] Could not load dynamic library 'libcudart.so.11.0'; dlerror: libcudart.so.11.0: cannot open shared object file: No such file or directory\n",
      "2022-12-18 23:46:26.415086: I tensorflow/compiler/xla/stream_executor/cuda/cudart_stub.cc:29] Ignore above cudart dlerror if you do not have a GPU set up on your machine.\n",
      "2022-12-18 23:46:38.989704: W tensorflow/compiler/xla/stream_executor/platform/default/dso_loader.cc:64] Could not load dynamic library 'libnvinfer.so.7'; dlerror: libnvinfer.so.7: cannot open shared object file: No such file or directory\n",
      "2022-12-18 23:46:38.990041: W tensorflow/compiler/xla/stream_executor/platform/default/dso_loader.cc:64] Could not load dynamic library 'libnvinfer_plugin.so.7'; dlerror: libnvinfer_plugin.so.7: cannot open shared object file: No such file or directory\n",
      "2022-12-18 23:46:38.990061: W tensorflow/compiler/tf2tensorrt/utils/py_utils.cc:38] TF-TRT Warning: Cannot dlopen some TensorRT libraries. If you would like to use Nvidia GPU with TensorRT, please make sure the missing libraries mentioned above are installed properly.\n"
     ]
    }
   ],
   "source": [
    "import tensorflow as tf\n",
    "from PIL import Image\n",
    "from tensorflow.keras import layers"
   ]
  },
  {
   "cell_type": "code",
   "execution_count": 2,
   "id": "f0c36b4e",
   "metadata": {},
   "outputs": [
    {
     "data": {
      "image/png": "[encoded data removed]",
      "text/plain": [
       "<PIL.PngImagePlugin.PngImageFile image mode=RGB size=32x32>"
      ]
     },
     "execution_count": 2,
     "metadata": {},
     "output_type": "execute_result"
    }
   ],
   "source": [
    "img=Image.open(\"/home/student/Desktop/PYTHON/G18/Image/cifar10/train/airplane/10010_airplane.png\")\n",
    "img"
   ]
  },
  {
   "cell_type": "code",
   "execution_count": 3,
   "id": "a0e73026",
   "metadata": {},
   "outputs": [
    {
     "data": {
      "text/plain": [
       "(32, 32)"
      ]
     },
     "execution_count": 3,
     "metadata": {},
     "output_type": "execute_result"
    }
   ],
   "source": [
    "img.size"
   ]
  },
  {
   "cell_type": "code",
   "execution_count": 4,
   "id": "ee8a6088",
   "metadata": {},
   "outputs": [
    {
     "name": "stdout",
     "output_type": "stream",
     "text": [
      "Found 50000 files belonging to 10 classes.\n"
     ]
    },
    {
     "name": "stderr",
     "output_type": "stream",
     "text": [
      "2022-12-18 23:46:55.086610: W tensorflow/compiler/xla/stream_executor/platform/default/dso_loader.cc:64] Could not load dynamic library 'libcuda.so.1'; dlerror: libcuda.so.1: cannot open shared object file: No such file or directory\n",
      "2022-12-18 23:46:55.094106: W tensorflow/compiler/xla/stream_executor/cuda/cuda_driver.cc:265] failed call to cuInit: UNKNOWN ERROR (303)\n",
      "2022-12-18 23:46:55.094256: I tensorflow/compiler/xla/stream_executor/cuda/cuda_diagnostics.cc:156] kernel driver does not appear to be running on this host (dharanibhaskar): /proc/driver/nvidia/version does not exist\n",
      "2022-12-18 23:46:55.220061: I tensorflow/core/platform/cpu_feature_guard.cc:193] This TensorFlow binary is optimized with oneAPI Deep Neural Network Library (oneDNN) to use the following CPU instructions in performance-critical operations:  AVX2 FMA\n",
      "To enable them in other operations, rebuild TensorFlow with the appropriate compiler flags.\n"
     ]
    }
   ],
   "source": [
    "data=tf.keras.utils.image_dataset_from_directory(\"/home/student/Desktop/PYTHON/G18/Image/cifar10/train\",\n",
    "    image_size=(32,32),\n",
    "    color_mode=\"rgb\",\n",
    "    batch_size=5000)\n",
    "\n",
    "                                            "
   ]
  },
  {
   "cell_type": "code",
   "execution_count": 5,
   "id": "596bffc1",
   "metadata": {},
   "outputs": [
    {
     "name": "stderr",
     "output_type": "stream",
     "text": [
      "2022-12-18 23:47:12.809329: I tensorflow/core/kernels/data/shuffle_dataset_op.cc:392] Filling up shuffle buffer (this may take a while): 1044 of 40000\n",
      "2022-12-18 23:47:22.817062: I tensorflow/core/kernels/data/shuffle_dataset_op.cc:392] Filling up shuffle buffer (this may take a while): 2061 of 40000\n",
      "2022-12-18 23:47:32.811611: I tensorflow/core/kernels/data/shuffle_dataset_op.cc:392] Filling up shuffle buffer (this may take a while): 2947 of 40000\n",
      "2022-12-18 23:47:42.803959: I tensorflow/core/kernels/data/shuffle_dataset_op.cc:392] Filling up shuffle buffer (this may take a while): 3655 of 40000\n",
      "2022-12-18 23:47:52.803415: I tensorflow/core/kernels/data/shuffle_dataset_op.cc:392] Filling up shuffle buffer (this may take a while): 4380 of 40000\n",
      "2022-12-18 23:48:02.804576: I tensorflow/core/kernels/data/shuffle_dataset_op.cc:392] Filling up shuffle buffer (this may take a while): 5138 of 40000\n",
      "2022-12-18 23:48:12.919275: I tensorflow/core/kernels/data/shuffle_dataset_op.cc:392] Filling up shuffle buffer (this may take a while): 5978 of 40000\n",
      "2022-12-18 23:48:22.794732: I tensorflow/core/kernels/data/shuffle_dataset_op.cc:392] Filling up shuffle buffer (this may take a while): 6791 of 40000\n",
      "2022-12-18 23:48:32.825158: I tensorflow/core/kernels/data/shuffle_dataset_op.cc:392] Filling up shuffle buffer (this may take a while): 7733 of 40000\n",
      "2022-12-18 23:48:42.798246: I tensorflow/core/kernels/data/shuffle_dataset_op.cc:392] Filling up shuffle buffer (this may take a while): 8728 of 40000\n",
      "2022-12-18 23:48:52.794249: I tensorflow/core/kernels/data/shuffle_dataset_op.cc:392] Filling up shuffle buffer (this may take a while): 9747 of 40000\n",
      "2022-12-18 23:49:02.794909: I tensorflow/core/kernels/data/shuffle_dataset_op.cc:392] Filling up shuffle buffer (this may take a while): 10815 of 40000\n",
      "2022-12-18 23:49:12.804260: I tensorflow/core/kernels/data/shuffle_dataset_op.cc:392] Filling up shuffle buffer (this may take a while): 11803 of 40000\n",
      "2022-12-18 23:49:22.802544: I tensorflow/core/kernels/data/shuffle_dataset_op.cc:392] Filling up shuffle buffer (this may take a while): 12893 of 40000\n",
      "2022-12-18 23:49:32.795701: I tensorflow/core/kernels/data/shuffle_dataset_op.cc:392] Filling up shuffle buffer (this may take a while): 13855 of 40000\n",
      "2022-12-18 23:49:42.799915: I tensorflow/core/kernels/data/shuffle_dataset_op.cc:392] Filling up shuffle buffer (this may take a while): 14741 of 40000\n",
      "2022-12-18 23:49:52.812425: I tensorflow/core/kernels/data/shuffle_dataset_op.cc:392] Filling up shuffle buffer (this may take a while): 15616 of 40000\n",
      "2022-12-18 23:50:02.801095: I tensorflow/core/kernels/data/shuffle_dataset_op.cc:392] Filling up shuffle buffer (this may take a while): 16554 of 40000\n",
      "2022-12-18 23:50:12.795405: I tensorflow/core/kernels/data/shuffle_dataset_op.cc:392] Filling up shuffle buffer (this may take a while): 17430 of 40000\n",
      "2022-12-18 23:50:22.797221: I tensorflow/core/kernels/data/shuffle_dataset_op.cc:392] Filling up shuffle buffer (this may take a while): 18358 of 40000\n",
      "2022-12-18 23:50:32.796792: I tensorflow/core/kernels/data/shuffle_dataset_op.cc:392] Filling up shuffle buffer (this may take a while): 19301 of 40000\n",
      "2022-12-18 23:50:42.795267: I tensorflow/core/kernels/data/shuffle_dataset_op.cc:392] Filling up shuffle buffer (this may take a while): 20239 of 40000\n",
      "2022-12-18 23:50:52.801131: I tensorflow/core/kernels/data/shuffle_dataset_op.cc:392] Filling up shuffle buffer (this may take a while): 21168 of 40000\n",
      "2022-12-18 23:51:02.806434: I tensorflow/core/kernels/data/shuffle_dataset_op.cc:392] Filling up shuffle buffer (this may take a while): 22086 of 40000\n",
      "2022-12-18 23:51:12.830837: I tensorflow/core/kernels/data/shuffle_dataset_op.cc:392] Filling up shuffle buffer (this may take a while): 22990 of 40000\n",
      "2022-12-18 23:51:22.795363: I tensorflow/core/kernels/data/shuffle_dataset_op.cc:392] Filling up shuffle buffer (this may take a while): 23931 of 40000\n",
      "2022-12-18 23:51:32.824432: I tensorflow/core/kernels/data/shuffle_dataset_op.cc:392] Filling up shuffle buffer (this may take a while): 24745 of 40000\n",
      "2022-12-18 23:51:42.870957: I tensorflow/core/kernels/data/shuffle_dataset_op.cc:392] Filling up shuffle buffer (this may take a while): 25641 of 40000\n",
      "2022-12-18 23:51:52.811642: I tensorflow/core/kernels/data/shuffle_dataset_op.cc:392] Filling up shuffle buffer (this may take a while): 26689 of 40000\n",
      "2022-12-18 23:52:02.795418: I tensorflow/core/kernels/data/shuffle_dataset_op.cc:392] Filling up shuffle buffer (this may take a while): 27561 of 40000\n",
      "2022-12-18 23:52:12.820669: I tensorflow/core/kernels/data/shuffle_dataset_op.cc:392] Filling up shuffle buffer (this may take a while): 28569 of 40000\n",
      "2022-12-18 23:52:22.800162: I tensorflow/core/kernels/data/shuffle_dataset_op.cc:392] Filling up shuffle buffer (this may take a while): 29536 of 40000\n",
      "2022-12-18 23:52:32.799004: I tensorflow/core/kernels/data/shuffle_dataset_op.cc:392] Filling up shuffle buffer (this may take a while): 30559 of 40000\n",
      "2022-12-18 23:52:42.794496: I tensorflow/core/kernels/data/shuffle_dataset_op.cc:392] Filling up shuffle buffer (this may take a while): 31600 of 40000\n",
      "2022-12-18 23:52:52.795687: I tensorflow/core/kernels/data/shuffle_dataset_op.cc:392] Filling up shuffle buffer (this may take a while): 32595 of 40000\n",
      "2022-12-18 23:53:02.805548: I tensorflow/core/kernels/data/shuffle_dataset_op.cc:392] Filling up shuffle buffer (this may take a while): 33526 of 40000\n",
      "2022-12-18 23:53:12.795588: I tensorflow/core/kernels/data/shuffle_dataset_op.cc:392] Filling up shuffle buffer (this may take a while): 34486 of 40000\n",
      "2022-12-18 23:53:23.010635: I tensorflow/core/kernels/data/shuffle_dataset_op.cc:392] Filling up shuffle buffer (this may take a while): 35246 of 40000\n",
      "2022-12-18 23:53:32.795118: I tensorflow/core/kernels/data/shuffle_dataset_op.cc:392] Filling up shuffle buffer (this may take a while): 35941 of 40000\n",
      "2022-12-18 23:53:42.801436: I tensorflow/core/kernels/data/shuffle_dataset_op.cc:392] Filling up shuffle buffer (this may take a while): 36900 of 40000\n",
      "2022-12-18 23:53:52.815850: I tensorflow/core/kernels/data/shuffle_dataset_op.cc:392] Filling up shuffle buffer (this may take a while): 37820 of 40000\n",
      "2022-12-18 23:54:02.794299: I tensorflow/core/kernels/data/shuffle_dataset_op.cc:392] Filling up shuffle buffer (this may take a while): 38688 of 40000\n",
      "2022-12-18 23:54:12.796005: I tensorflow/core/kernels/data/shuffle_dataset_op.cc:392] Filling up shuffle buffer (this may take a while): 39463 of 40000\n",
      "2022-12-18 23:54:19.830590: I tensorflow/core/kernels/data/shuffle_dataset_op.cc:417] Shuffle buffer filled.\n",
      "2022-12-18 23:55:18.524862: W tensorflow/tsl/framework/cpu_allocator_impl.cc:82] Allocation of 61440000 exceeds 10% of free system memory.\n"
     ]
    },
    {
     "name": "stdout",
     "output_type": "stream",
     "text": [
      "(5000, 32, 32, 3) (5000,)\n"
     ]
    },
    {
     "name": "stderr",
     "output_type": "stream",
     "text": [
      "2022-12-18 23:55:24.638266: W tensorflow/tsl/framework/cpu_allocator_impl.cc:82] Allocation of 61440000 exceeds 10% of free system memory.\n"
     ]
    }
   ],
   "source": [
    "for fe,la in data:\n",
    "    print(fe.shape,la.shape)\n",
    "    break"
   ]
  },
  {
   "cell_type": "code",
   "execution_count": 6,
   "id": "c32d0edb",
   "metadata": {},
   "outputs": [],
   "source": [
    "cnn_model=tf.keras.Sequential([\n",
    "    layers.Conv2D(9,3,input_shape=(32,32,3)),\n",
    "    layers.MaxPool2D(),\n",
    "    layers.Conv2D(18,3,activation=\"relu\"),\n",
    "    layers.MaxPool2D(),\n",
    "    layers.Conv2D(36,3,activation=\"relu\"),\n",
    "    layers.MaxPool2D(),\n",
    "    layers.Flatten(),\n",
    "    layers.Dense(64),\n",
    "    layers.Dense(10),\n",
    "    layers.Softmax()\n",
    "])"
   ]
  },
  {
   "cell_type": "code",
   "execution_count": 7,
   "id": "8012f556",
   "metadata": {},
   "outputs": [
    {
     "name": "stdout",
     "output_type": "stream",
     "text": [
      "Model: \"sequential\"\n",
      "_________________________________________________________________\n",
      " Layer (type)                Output Shape              Param #   \n",
      "=================================================================\n",
      " conv2d (Conv2D)             (None, 30, 30, 9)         252       \n",
      "                                                                 \n",
      " max_pooling2d (MaxPooling2D  (None, 15, 15, 9)        0         \n",
      " )                                                               \n",
      "                                                                 \n",
      " conv2d_1 (Conv2D)           (None, 13, 13, 18)        1476      \n",
      "                                                                 \n",
      " max_pooling2d_1 (MaxPooling  (None, 6, 6, 18)         0         \n",
      " 2D)                                                             \n",
      "                                                                 \n",
      " conv2d_2 (Conv2D)           (None, 4, 4, 36)          5868      \n",
      "                                                                 \n",
      " max_pooling2d_2 (MaxPooling  (None, 2, 2, 36)         0         \n",
      " 2D)                                                             \n",
      "                                                                 \n",
      " flatten (Flatten)           (None, 144)               0         \n",
      "                                                                 \n",
      " dense (Dense)               (None, 64)                9280      \n",
      "                                                                 \n",
      " dense_1 (Dense)             (None, 10)                650       \n",
      "                                                                 \n",
      " softmax (Softmax)           (None, 10)                0         \n",
      "                                                                 \n",
      "=================================================================\n",
      "Total params: 17,526\n",
      "Trainable params: 17,526\n",
      "Non-trainable params: 0\n",
      "_________________________________________________________________\n"
     ]
    }
   ],
   "source": [
    "cnn_model.build(input_shape=(1,32,32,3))\n",
    "cnn_model.summary()"
   ]
  },
  {
   "cell_type": "code",
   "execution_count": 8,
   "id": "269aa035",
   "metadata": {},
   "outputs": [],
   "source": [
    "cnn_model.compile(loss=tf.keras.losses.categorical_crossentropy,optimizer=tf.keras.optimizers.Adam(),metrics=[\"accuracy\"])"
   ]
  },
  {
   "cell_type": "code",
   "execution_count": 9,
   "id": "ea19061d",
   "metadata": {},
   "outputs": [
    {
     "name": "stderr",
     "output_type": "stream",
     "text": [
      "2022-12-18 23:55:53.333100: I tensorflow/core/kernels/data/shuffle_dataset_op.cc:392] Filling up shuffle buffer (this may take a while): 500 of 40000\n",
      "2022-12-18 23:56:03.316940: I tensorflow/core/kernels/data/shuffle_dataset_op.cc:392] Filling up shuffle buffer (this may take a while): 1493 of 40000\n",
      "2022-12-18 23:56:13.314970: I tensorflow/core/kernels/data/shuffle_dataset_op.cc:392] Filling up shuffle buffer (this may take a while): 2474 of 40000\n",
      "2022-12-18 23:56:23.313346: I tensorflow/core/kernels/data/shuffle_dataset_op.cc:392] Filling up shuffle buffer (this may take a while): 3375 of 40000\n",
      "2022-12-18 23:56:33.323231: I tensorflow/core/kernels/data/shuffle_dataset_op.cc:392] Filling up shuffle buffer (this may take a while): 4162 of 40000\n",
      "2022-12-18 23:56:43.320524: I tensorflow/core/kernels/data/shuffle_dataset_op.cc:392] Filling up shuffle buffer (this may take a while): 4925 of 40000\n",
      "2022-12-18 23:56:53.325677: I tensorflow/core/kernels/data/shuffle_dataset_op.cc:392] Filling up shuffle buffer (this may take a while): 5829 of 40000\n",
      "2022-12-18 23:57:03.318158: I tensorflow/core/kernels/data/shuffle_dataset_op.cc:392] Filling up shuffle buffer (this may take a while): 6917 of 40000\n",
      "2022-12-18 23:57:13.315340: I tensorflow/core/kernels/data/shuffle_dataset_op.cc:392] Filling up shuffle buffer (this may take a while): 7995 of 40000\n",
      "2022-12-18 23:57:23.319276: I tensorflow/core/kernels/data/shuffle_dataset_op.cc:392] Filling up shuffle buffer (this may take a while): 9003 of 40000\n",
      "2022-12-18 23:57:33.339078: I tensorflow/core/kernels/data/shuffle_dataset_op.cc:392] Filling up shuffle buffer (this may take a while): 10077 of 40000\n",
      "2022-12-18 23:57:43.321501: I tensorflow/core/kernels/data/shuffle_dataset_op.cc:392] Filling up shuffle buffer (this may take a while): 11143 of 40000\n",
      "2022-12-18 23:57:53.313585: I tensorflow/core/kernels/data/shuffle_dataset_op.cc:392] Filling up shuffle buffer (this may take a while): 11932 of 40000\n",
      "2022-12-18 23:58:03.350897: I tensorflow/core/kernels/data/shuffle_dataset_op.cc:392] Filling up shuffle buffer (this may take a while): 12644 of 40000\n",
      "2022-12-18 23:58:13.340864: I tensorflow/core/kernels/data/shuffle_dataset_op.cc:392] Filling up shuffle buffer (this may take a while): 13585 of 40000\n",
      "2022-12-18 23:58:23.413815: I tensorflow/core/kernels/data/shuffle_dataset_op.cc:392] Filling up shuffle buffer (this may take a while): 14492 of 40000\n",
      "2022-12-18 23:58:33.320126: I tensorflow/core/kernels/data/shuffle_dataset_op.cc:392] Filling up shuffle buffer (this may take a while): 15177 of 40000\n",
      "2022-12-18 23:58:43.336192: I tensorflow/core/kernels/data/shuffle_dataset_op.cc:392] Filling up shuffle buffer (this may take a while): 15747 of 40000\n",
      "2022-12-18 23:58:53.340846: I tensorflow/core/kernels/data/shuffle_dataset_op.cc:392] Filling up shuffle buffer (this may take a while): 16369 of 40000\n",
      "2022-12-18 23:59:03.316947: I tensorflow/core/kernels/data/shuffle_dataset_op.cc:392] Filling up shuffle buffer (this may take a while): 16822 of 40000\n",
      "2022-12-18 23:59:13.323570: I tensorflow/core/kernels/data/shuffle_dataset_op.cc:392] Filling up shuffle buffer (this may take a while): 17280 of 40000\n",
      "2022-12-18 23:59:23.331211: I tensorflow/core/kernels/data/shuffle_dataset_op.cc:392] Filling up shuffle buffer (this may take a while): 17647 of 40000\n",
      "2022-12-18 23:59:33.315060: I tensorflow/core/kernels/data/shuffle_dataset_op.cc:392] Filling up shuffle buffer (this may take a while): 18260 of 40000\n",
      "2022-12-18 23:59:43.326074: I tensorflow/core/kernels/data/shuffle_dataset_op.cc:392] Filling up shuffle buffer (this may take a while): 19316 of 40000\n",
      "2022-12-18 23:59:53.318510: I tensorflow/core/kernels/data/shuffle_dataset_op.cc:392] Filling up shuffle buffer (this may take a while): 20271 of 40000\n",
      "2022-12-19 00:00:03.342369: I tensorflow/core/kernels/data/shuffle_dataset_op.cc:392] Filling up shuffle buffer (this may take a while): 21291 of 40000\n",
      "2022-12-19 00:00:13.353375: I tensorflow/core/kernels/data/shuffle_dataset_op.cc:392] Filling up shuffle buffer (this may take a while): 22292 of 40000\n",
      "2022-12-19 00:00:23.358337: I tensorflow/core/kernels/data/shuffle_dataset_op.cc:392] Filling up shuffle buffer (this may take a while): 23190 of 40000\n",
      "2022-12-19 00:00:33.578649: I tensorflow/core/kernels/data/shuffle_dataset_op.cc:392] Filling up shuffle buffer (this may take a while): 23941 of 40000\n",
      "2022-12-19 00:00:43.332504: I tensorflow/core/kernels/data/shuffle_dataset_op.cc:392] Filling up shuffle buffer (this may take a while): 24604 of 40000\n",
      "2022-12-19 00:00:53.349095: I tensorflow/core/kernels/data/shuffle_dataset_op.cc:392] Filling up shuffle buffer (this may take a while): 25073 of 40000\n",
      "2022-12-19 00:01:03.318699: I tensorflow/core/kernels/data/shuffle_dataset_op.cc:392] Filling up shuffle buffer (this may take a while): 25648 of 40000\n",
      "2022-12-19 00:01:13.324942: I tensorflow/core/kernels/data/shuffle_dataset_op.cc:392] Filling up shuffle buffer (this may take a while): 26390 of 40000\n",
      "2022-12-19 00:01:23.361701: I tensorflow/core/kernels/data/shuffle_dataset_op.cc:392] Filling up shuffle buffer (this may take a while): 27369 of 40000\n",
      "2022-12-19 00:01:33.333800: I tensorflow/core/kernels/data/shuffle_dataset_op.cc:392] Filling up shuffle buffer (this may take a while): 28212 of 40000\n",
      "2022-12-19 00:01:43.333946: I tensorflow/core/kernels/data/shuffle_dataset_op.cc:392] Filling up shuffle buffer (this may take a while): 29265 of 40000\n",
      "2022-12-19 00:01:53.321871: I tensorflow/core/kernels/data/shuffle_dataset_op.cc:392] Filling up shuffle buffer (this may take a while): 30162 of 40000\n",
      "2022-12-19 00:02:03.314993: I tensorflow/core/kernels/data/shuffle_dataset_op.cc:392] Filling up shuffle buffer (this may take a while): 31158 of 40000\n",
      "2022-12-19 00:02:13.316395: I tensorflow/core/kernels/data/shuffle_dataset_op.cc:392] Filling up shuffle buffer (this may take a while): 32122 of 40000\n",
      "2022-12-19 00:02:23.314848: I tensorflow/core/kernels/data/shuffle_dataset_op.cc:392] Filling up shuffle buffer (this may take a while): 33150 of 40000\n",
      "2022-12-19 00:02:33.342562: I tensorflow/core/kernels/data/shuffle_dataset_op.cc:392] Filling up shuffle buffer (this may take a while): 34143 of 40000\n",
      "2022-12-19 00:02:43.329735: I tensorflow/core/kernels/data/shuffle_dataset_op.cc:392] Filling up shuffle buffer (this may take a while): 35138 of 40000\n",
      "2022-12-19 00:02:53.325361: I tensorflow/core/kernels/data/shuffle_dataset_op.cc:392] Filling up shuffle buffer (this may take a while): 36179 of 40000\n",
      "2022-12-19 00:03:03.323927: I tensorflow/core/kernels/data/shuffle_dataset_op.cc:392] Filling up shuffle buffer (this may take a while): 37005 of 40000\n",
      "2022-12-19 00:03:13.346486: I tensorflow/core/kernels/data/shuffle_dataset_op.cc:392] Filling up shuffle buffer (this may take a while): 37833 of 40000\n",
      "2022-12-19 00:03:23.319051: I tensorflow/core/kernels/data/shuffle_dataset_op.cc:392] Filling up shuffle buffer (this may take a while): 38558 of 40000\n",
      "2022-12-19 00:03:33.313754: I tensorflow/core/kernels/data/shuffle_dataset_op.cc:392] Filling up shuffle buffer (this may take a while): 39233 of 40000\n",
      "2022-12-19 00:03:42.091524: I tensorflow/core/kernels/data/shuffle_dataset_op.cc:417] Shuffle buffer filled.\n",
      "2022-12-19 00:04:45.289251: W tensorflow/tsl/framework/cpu_allocator_impl.cc:82] Allocation of 61440000 exceeds 10% of free system memory.\n",
      "2022-12-19 00:05:03.066373: W tensorflow/tsl/framework/cpu_allocator_impl.cc:82] Allocation of 61440000 exceeds 10% of free system memory.\n"
     ]
    },
    {
     "name": "stdout",
     "output_type": "stream",
     "text": [
      "Epoch 1/100\n"
     ]
    },
    {
     "name": "stderr",
     "output_type": "stream",
     "text": [
      "2022-12-19 00:05:44.023159: W tensorflow/tsl/framework/cpu_allocator_impl.cc:82] Allocation of 61440000 exceeds 10% of free system memory.\n"
     ]
    },
    {
     "name": "stdout",
     "output_type": "stream",
     "text": [
      "500/500 [==============================] - 27s 11ms/step - loss: 1.9788 - accuracy: 0.2536\n",
      "Epoch 2/100\n",
      "500/500 [==============================] - 6s 12ms/step - loss: 1.6271 - accuracy: 0.4024\n",
      "Epoch 3/100\n",
      "500/500 [==============================] - 5s 11ms/step - loss: 1.4805 - accuracy: 0.4608\n",
      "Epoch 4/100\n",
      "500/500 [==============================] - 6s 12ms/step - loss: 1.3746 - accuracy: 0.5076\n",
      "Epoch 5/100\n",
      "500/500 [==============================] - 6s 11ms/step - loss: 1.2843 - accuracy: 0.5370\n",
      "Epoch 6/100\n",
      "500/500 [==============================] - 6s 11ms/step - loss: 1.2053 - accuracy: 0.5690\n",
      "Epoch 7/100\n",
      "500/500 [==============================] - 7s 14ms/step - loss: 1.1511 - accuracy: 0.5844\n",
      "Epoch 8/100\n",
      "500/500 [==============================] - 8s 16ms/step - loss: 1.0950 - accuracy: 0.6092\n",
      "Epoch 9/100\n",
      "500/500 [==============================] - 9s 18ms/step - loss: 1.0421 - accuracy: 0.6276\n",
      "Epoch 10/100\n",
      "500/500 [==============================] - 7s 15ms/step - loss: 1.0084 - accuracy: 0.6442\n",
      "Epoch 11/100\n",
      "500/500 [==============================] - 7s 14ms/step - loss: 0.9449 - accuracy: 0.6588\n",
      "Epoch 12/100\n",
      "500/500 [==============================] - 6s 11ms/step - loss: 0.8982 - accuracy: 0.6826\n",
      "Epoch 13/100\n",
      "500/500 [==============================] - 8s 15ms/step - loss: 0.8691 - accuracy: 0.6896\n",
      "Epoch 14/100\n",
      "500/500 [==============================] - 9s 19ms/step - loss: 0.8182 - accuracy: 0.7060\n",
      "Epoch 15/100\n",
      "500/500 [==============================] - 10s 20ms/step - loss: 0.7903 - accuracy: 0.7130\n",
      "Epoch 16/100\n",
      "500/500 [==============================] - 10s 20ms/step - loss: 0.7552 - accuracy: 0.7344\n",
      "Epoch 17/100\n",
      "500/500 [==============================] - 9s 19ms/step - loss: 0.7277 - accuracy: 0.7348\n",
      "Epoch 18/100\n",
      "500/500 [==============================] - 7s 15ms/step - loss: 0.6771 - accuracy: 0.7610\n",
      "Epoch 19/100\n",
      "500/500 [==============================] - 6s 12ms/step - loss: 0.6633 - accuracy: 0.7588\n",
      "Epoch 20/100\n",
      "500/500 [==============================] - 6s 11ms/step - loss: 0.6280 - accuracy: 0.7748\n",
      "Epoch 21/100\n",
      "500/500 [==============================] - 6s 11ms/step - loss: 0.5962 - accuracy: 0.7854\n",
      "Epoch 22/100\n",
      "500/500 [==============================] - 6s 12ms/step - loss: 0.5739 - accuracy: 0.7906\n",
      "Epoch 23/100\n",
      "500/500 [==============================] - 5s 11ms/step - loss: 0.5468 - accuracy: 0.8010\n",
      "Epoch 24/100\n",
      "500/500 [==============================] - 5s 11ms/step - loss: 0.5279 - accuracy: 0.8118\n",
      "Epoch 25/100\n",
      "500/500 [==============================] - 6s 12ms/step - loss: 0.5066 - accuracy: 0.8212\n",
      "Epoch 26/100\n",
      "500/500 [==============================] - 5s 11ms/step - loss: 0.4980 - accuracy: 0.8224\n",
      "Epoch 27/100\n",
      "500/500 [==============================] - 8s 15ms/step - loss: 0.4829 - accuracy: 0.8280\n",
      "Epoch 28/100\n",
      "500/500 [==============================] - 8s 17ms/step - loss: 0.4494 - accuracy: 0.8380\n",
      "Epoch 29/100\n",
      "500/500 [==============================] - 8s 15ms/step - loss: 0.4276 - accuracy: 0.8446\n",
      "Epoch 30/100\n",
      "500/500 [==============================] - 6s 11ms/step - loss: 0.4086 - accuracy: 0.8462\n",
      "Epoch 31/100\n",
      "500/500 [==============================] - 6s 11ms/step - loss: 0.4090 - accuracy: 0.8472\n",
      "Epoch 32/100\n",
      "500/500 [==============================] - 6s 12ms/step - loss: 0.3939 - accuracy: 0.8530\n",
      "Epoch 33/100\n",
      "500/500 [==============================] - 5s 11ms/step - loss: 0.3786 - accuracy: 0.8618\n",
      "Epoch 34/100\n",
      "500/500 [==============================] - 6s 11ms/step - loss: 0.3489 - accuracy: 0.8722\n",
      "Epoch 35/100\n",
      "500/500 [==============================] - 6s 12ms/step - loss: 0.3261 - accuracy: 0.8800\n",
      "Epoch 36/100\n",
      "500/500 [==============================] - 5s 11ms/step - loss: 0.3112 - accuracy: 0.8858\n",
      "Epoch 37/100\n",
      "500/500 [==============================] - 5s 11ms/step - loss: 0.3542 - accuracy: 0.8710\n",
      "Epoch 38/100\n",
      "500/500 [==============================] - 6s 12ms/step - loss: 0.3127 - accuracy: 0.8886\n",
      "Epoch 39/100\n",
      "500/500 [==============================] - 6s 11ms/step - loss: 0.2962 - accuracy: 0.8936\n",
      "Epoch 40/100\n",
      "500/500 [==============================] - 6s 12ms/step - loss: 0.2998 - accuracy: 0.8952\n",
      "Epoch 41/100\n",
      "500/500 [==============================] - 5s 11ms/step - loss: 0.2725 - accuracy: 0.9032\n",
      "Epoch 42/100\n",
      "500/500 [==============================] - 6s 11ms/step - loss: 0.2659 - accuracy: 0.9092\n",
      "Epoch 43/100\n",
      "500/500 [==============================] - 6s 12ms/step - loss: 0.2763 - accuracy: 0.8980\n",
      "Epoch 44/100\n",
      "500/500 [==============================] - 5s 11ms/step - loss: 0.2350 - accuracy: 0.9172\n",
      "Epoch 45/100\n",
      "500/500 [==============================] - 6s 11ms/step - loss: 0.2594 - accuracy: 0.9046\n",
      "Epoch 46/100\n",
      "500/500 [==============================] - 6s 12ms/step - loss: 0.2646 - accuracy: 0.9048\n",
      "Epoch 47/100\n",
      "500/500 [==============================] - 5s 11ms/step - loss: 0.2496 - accuracy: 0.9104\n",
      "Epoch 48/100\n",
      "500/500 [==============================] - 5s 11ms/step - loss: 0.2201 - accuracy: 0.9198\n",
      "Epoch 49/100\n",
      "500/500 [==============================] - 6s 12ms/step - loss: 0.1891 - accuracy: 0.9296\n",
      "Epoch 50/100\n",
      "500/500 [==============================] - 7s 13ms/step - loss: 0.2017 - accuracy: 0.9258\n",
      "Epoch 51/100\n",
      "500/500 [==============================] - 7s 15ms/step - loss: 0.2477 - accuracy: 0.9100\n",
      "Epoch 52/100\n",
      "500/500 [==============================] - 7s 15ms/step - loss: 0.1938 - accuracy: 0.9302\n",
      "Epoch 53/100\n",
      "500/500 [==============================] - 7s 14ms/step - loss: 0.2137 - accuracy: 0.9220\n",
      "Epoch 54/100\n",
      "500/500 [==============================] - 7s 14ms/step - loss: 0.1678 - accuracy: 0.9380\n",
      "Epoch 55/100\n",
      "500/500 [==============================] - 7s 13ms/step - loss: 0.1872 - accuracy: 0.9334\n",
      "Epoch 56/100\n",
      "500/500 [==============================] - 7s 15ms/step - loss: 0.1981 - accuracy: 0.9278\n",
      "Epoch 57/100\n",
      "500/500 [==============================] - 6s 13ms/step - loss: 0.2314 - accuracy: 0.9184\n",
      "Epoch 58/100\n",
      "500/500 [==============================] - 11s 21ms/step - loss: 0.2215 - accuracy: 0.9134\n",
      "Epoch 59/100\n",
      "500/500 [==============================] - 13s 26ms/step - loss: 0.1741 - accuracy: 0.9382\n",
      "Epoch 60/100\n",
      "500/500 [==============================] - 14s 28ms/step - loss: 0.1691 - accuracy: 0.9340\n",
      "Epoch 61/100\n",
      "500/500 [==============================] - 13s 26ms/step - loss: 0.1617 - accuracy: 0.9396\n",
      "Epoch 62/100\n",
      "500/500 [==============================] - 14s 28ms/step - loss: 0.2299 - accuracy: 0.9208\n",
      "Epoch 63/100\n",
      "500/500 [==============================] - 14s 29ms/step - loss: 0.1787 - accuracy: 0.9378\n",
      "Epoch 64/100\n",
      "500/500 [==============================] - 16s 33ms/step - loss: 0.1809 - accuracy: 0.9346\n",
      "Epoch 65/100\n",
      "500/500 [==============================] - 12s 25ms/step - loss: 0.1585 - accuracy: 0.9404\n",
      "Epoch 66/100\n",
      "500/500 [==============================] - 12s 23ms/step - loss: 0.1973 - accuracy: 0.9328\n",
      "Epoch 67/100\n",
      "500/500 [==============================] - 10s 19ms/step - loss: 0.1435 - accuracy: 0.9504\n",
      "Epoch 68/100\n",
      "500/500 [==============================] - 11s 22ms/step - loss: 0.1513 - accuracy: 0.9454\n",
      "Epoch 69/100\n",
      "500/500 [==============================] - 12s 25ms/step - loss: 0.1842 - accuracy: 0.9338\n",
      "Epoch 70/100\n",
      "500/500 [==============================] - 11s 23ms/step - loss: 0.2067 - accuracy: 0.9242\n",
      "Epoch 71/100\n",
      "500/500 [==============================] - 11s 22ms/step - loss: 0.1863 - accuracy: 0.9396\n",
      "Epoch 72/100\n",
      "500/500 [==============================] - 12s 25ms/step - loss: 0.1326 - accuracy: 0.9520\n",
      "Epoch 73/100\n",
      "500/500 [==============================] - 10s 20ms/step - loss: 0.1089 - accuracy: 0.9636\n",
      "Epoch 74/100\n",
      "500/500 [==============================] - 8s 16ms/step - loss: 0.2265 - accuracy: 0.9186\n",
      "Epoch 75/100\n",
      "500/500 [==============================] - 6s 13ms/step - loss: 0.1426 - accuracy: 0.9466\n",
      "Epoch 76/100\n",
      "500/500 [==============================] - 7s 13ms/step - loss: 0.1199 - accuracy: 0.9572\n",
      "Epoch 77/100\n",
      "500/500 [==============================] - 6s 11ms/step - loss: 0.1440 - accuracy: 0.9490\n",
      "Epoch 78/100\n",
      "500/500 [==============================] - 6s 12ms/step - loss: 0.1618 - accuracy: 0.9436\n",
      "Epoch 79/100\n",
      "500/500 [==============================] - 5s 11ms/step - loss: 0.1706 - accuracy: 0.9426\n",
      "Epoch 80/100\n"
     ]
    },
    {
     "name": "stdout",
     "output_type": "stream",
     "text": [
      "500/500 [==============================] - 5s 11ms/step - loss: 0.1312 - accuracy: 0.9554\n",
      "Epoch 81/100\n",
      "500/500 [==============================] - 6s 12ms/step - loss: 0.1182 - accuracy: 0.9582\n",
      "Epoch 82/100\n",
      "500/500 [==============================] - 5s 11ms/step - loss: 0.2096 - accuracy: 0.9292\n",
      "Epoch 83/100\n",
      "500/500 [==============================] - 6s 13ms/step - loss: 0.1630 - accuracy: 0.9438\n",
      "Epoch 84/100\n",
      "500/500 [==============================] - 7s 14ms/step - loss: 0.2037 - accuracy: 0.9364\n",
      "Epoch 85/100\n",
      "500/500 [==============================] - 7s 14ms/step - loss: 0.0658 - accuracy: 0.9772\n",
      "Epoch 86/100\n",
      "500/500 [==============================] - 7s 14ms/step - loss: 0.0760 - accuracy: 0.9750\n",
      "Epoch 87/100\n",
      "500/500 [==============================] - 7s 13ms/step - loss: 0.2048 - accuracy: 0.9320\n",
      "Epoch 88/100\n",
      "500/500 [==============================] - 9s 18ms/step - loss: 0.1890 - accuracy: 0.9372\n",
      "Epoch 89/100\n",
      "500/500 [==============================] - 7s 14ms/step - loss: 0.1643 - accuracy: 0.9430\n",
      "Epoch 90/100\n",
      "500/500 [==============================] - 9s 18ms/step - loss: 0.0987 - accuracy: 0.9636\n",
      "Epoch 91/100\n",
      "500/500 [==============================] - 7s 14ms/step - loss: 0.0985 - accuracy: 0.9642\n",
      "Epoch 92/100\n",
      "500/500 [==============================] - 6s 13ms/step - loss: 0.1852 - accuracy: 0.9366\n",
      "Epoch 93/100\n",
      "500/500 [==============================] - 7s 14ms/step - loss: 0.2154 - accuracy: 0.9248\n",
      "Epoch 94/100\n",
      "500/500 [==============================] - 7s 13ms/step - loss: 0.1073 - accuracy: 0.9640\n",
      "Epoch 95/100\n",
      "500/500 [==============================] - 8s 15ms/step - loss: 0.1059 - accuracy: 0.9642\n",
      "Epoch 96/100\n",
      "500/500 [==============================] - 7s 13ms/step - loss: 0.1091 - accuracy: 0.9620\n",
      "Epoch 97/100\n",
      "500/500 [==============================] - 8s 17ms/step - loss: 0.0521 - accuracy: 0.9830\n",
      "Epoch 98/100\n",
      "500/500 [==============================] - 6s 13ms/step - loss: 0.2277 - accuracy: 0.9294\n",
      "Epoch 99/100\n",
      "500/500 [==============================] - 7s 14ms/step - loss: 0.1490 - accuracy: 0.9510\n",
      "Epoch 100/100\n",
      "500/500 [==============================] - 6s 12ms/step - loss: 0.1446 - accuracy: 0.9524\n"
     ]
    }
   ],
   "source": [
    "for images,labels in data:\n",
    "    features=tf.divide(fe,255)\n",
    "    labels=tf.one_hot(la,10)\n",
    "    record=cnn_model.fit(features,labels,batch_size=10,epochs=100)\n",
    "    break"
   ]
  },
  {
   "cell_type": "code",
   "execution_count": 10,
   "id": "ab86d8a2",
   "metadata": {},
   "outputs": [],
   "source": [
    "model=cnn_model.save(\"image_classification.h5\",save_format=\"h5\")"
   ]
  },
  {
   "cell_type": "code",
   "execution_count": 11,
   "id": "dca9bc79",
   "metadata": {},
   "outputs": [],
   "source": [
    "model\n"
   ]
  },
  {
   "cell_type": "code",
   "execution_count": 12,
   "id": "628afa00",
   "metadata": {},
   "outputs": [
    {
     "name": "stdout",
     "output_type": "stream",
     "text": [
      "Model: \"sequential\"\n",
      "_________________________________________________________________\n",
      " Layer (type)                Output Shape              Param #   \n",
      "=================================================================\n",
      " conv2d (Conv2D)             (None, 30, 30, 9)         252       \n",
      "                                                                 \n",
      " max_pooling2d (MaxPooling2D  (None, 15, 15, 9)        0         \n",
      " )                                                               \n",
      "                                                                 \n",
      " conv2d_1 (Conv2D)           (None, 13, 13, 18)        1476      \n",
      "                                                                 \n",
      " max_pooling2d_1 (MaxPooling  (None, 6, 6, 18)         0         \n",
      " 2D)                                                             \n",
      "                                                                 \n",
      " conv2d_2 (Conv2D)           (None, 4, 4, 36)          5868      \n",
      "                                                                 \n",
      " max_pooling2d_2 (MaxPooling  (None, 2, 2, 36)         0         \n",
      " 2D)                                                             \n",
      "                                                                 \n",
      " flatten (Flatten)           (None, 144)               0         \n",
      "                                                                 \n",
      " dense (Dense)               (None, 64)                9280      \n",
      "                                                                 \n",
      " dense_1 (Dense)             (None, 10)                650       \n",
      "                                                                 \n",
      " softmax (Softmax)           (None, 10)                0         \n",
      "                                                                 \n",
      "=================================================================\n",
      "Total params: 17,526\n",
      "Trainable params: 17,526\n",
      "Non-trainable params: 0\n",
      "_________________________________________________________________\n"
     ]
    }
   ],
   "source": [
    "model1=tf.keras.models.load_model(\"image_classification.h5\")\n",
    "model1.summary()"
   ]
  },
  {
   "cell_type": "code",
   "execution_count": null,
   "id": "9a16ef87",
   "metadata": {},
   "outputs": [],
   "source": []
  }
 ],
 "metadata": {
  "kernelspec": {
   "display_name": "Python 3",
   "language": "python",
   "name": "python3"
  },
  "language_info": {
   "codemirror_mode": {
    "name": "ipython",
    "version": 3
   },
   "file_extension": ".py",
   "mimetype": "text/x-python",
   "name": "python",
   "nbconvert_exporter": "python",
   "pygments_lexer": "ipython3",
   "version": "3.7.15"
  },
  "widgets": {
   "application/vnd.jupyter.widget-state+json": {
    "state": {},
    "version_major": 2,
    "version_minor": 0
   }
  }
 },
 "nbformat": 4,
 "nbformat_minor": 5
}
